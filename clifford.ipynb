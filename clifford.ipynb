{
 "cells": [
  {
   "cell_type": "markdown",
   "metadata": {},
   "source": [
    "# Beautiful Plots of Clifford Attractors\n",
    "\n",
    "Requirements:\n",
    "- NumPy\n",
    "- Cython\n",
    "- Matplotlib"
   ]
  },
  {
   "cell_type": "code",
   "execution_count": null,
   "metadata": {},
   "outputs": [],
   "source": [
    "%load_ext cython\n",
    "%matplotlib inline\n",
    "\n",
    "import matplotlib.pyplot as plt\n",
    "import numpy as np"
   ]
  },
  {
   "cell_type": "markdown",
   "metadata": {},
   "source": [
    "## Main function\n",
    "\n",
    "The following Cython code does all the heavy lifting:"
   ]
  },
  {
   "cell_type": "code",
   "execution_count": null,
   "metadata": {},
   "outputs": [],
   "source": [
    "%%cython -c=-O3\n",
    "\n",
    "import cython\n",
    "\n",
    "import numpy as np\n",
    "cimport numpy as np\n",
    "\n",
    "from libc.math cimport cos, sin\n",
    "\n",
    "\n",
    "@cython.boundscheck(False)\n",
    "def clifford_trajectory(int n, double a, double b, double c, double d):\n",
    "    \"\"\"Compute Clifford Attractor as a parametric curve\"\"\"\n",
    "    cdef np.ndarray[ndim=1, dtype=np.float_t] x, y\n",
    "    cdef int i\n",
    "    \n",
    "    x, y = np.empty(n), np.empty(n)\n",
    "    x[0] = y[0] = 0\n",
    "    for i in range(1, n):\n",
    "        x[i] = sin(a * y[i-1]) + c * cos(a * x[i-1])\n",
    "        y[i] = sin(b * x[i-1]) + d * cos(b * y[i-1])\n",
    "    return x, y\n",
    "\n",
    "\n",
    "@cython.cdivision(True)\n",
    "@cython.boundscheck(False)\n",
    "def clifford_bincount(int n, int bins_x, int bins_y, double a, double b, double c, double d):\n",
    "    \"\"\"Compute Clifford Attractor as a 2D histogram\n",
    "    \n",
    "    Arguments:\n",
    "        n (int): Number of iterations to calculate (the more the denser)\n",
    "        bins_x, bins_y (int): Number of bins per dimension (dimensions\n",
    "            of the resulting histogram)\n",
    "        a, b, c, d (float): Clifford Attractor parameters\n",
    "        \n",
    "    \"\"\"\n",
    "    cdef np.ndarray[ndim=2, dtype=np.float32_t] bincount\n",
    "    cdef double x, x_prev, y, y_prev\n",
    "    cdef int i, idx, idy\n",
    "    \n",
    "    cdef double min_x, max_x, min_y, max_y\n",
    "    min_x = -1 - abs(c)\n",
    "    max_x = 1 + abs(c)\n",
    "    min_y = -1 - abs(d)\n",
    "    max_y = 1 + abs(d)\n",
    "    \n",
    "    bincount = np.zeros((bins_x, bins_y), dtype=np.float32)\n",
    "    x_prev = y_prev = 0\n",
    "    \n",
    "    for i in range(1, n):\n",
    "        x = sin(a * y_prev) + c * cos(a * x_prev)\n",
    "        y = sin(b * x_prev) + d * cos(b * y_prev)\n",
    "        idx = int(bins_x * (x - min_x) / (max_x - min_x))\n",
    "        idy = int(bins_y * (y - min_y) / (max_y - min_y))\n",
    "        \n",
    "        bincount[idx, idy] += 1\n",
    "        # also increment adjacent pixels to get a nice, smooth brush stroke\n",
    "        if idx > 0:\n",
    "            bincount[idx-1, idy] += 0.25\n",
    "        if idy > 0:\n",
    "            bincount[idx, idy-1] += 0.25\n",
    "        if idx < bins_x-1:\n",
    "            bincount[idx+1, idy] += 0.25\n",
    "        if idy < bins_y-1:\n",
    "            bincount[idx, idy+1] += 0.25\n",
    "            \n",
    "        x_prev, y_prev = x, y\n",
    "    return bincount"
   ]
  },
  {
   "cell_type": "markdown",
   "metadata": {},
   "source": [
    "## Let's compute some random attractors!\n",
    "\n",
    "Repeat computation for boring parameter combinations (short limit cycles)"
   ]
  },
  {
   "cell_type": "code",
   "execution_count": null,
   "metadata": {},
   "outputs": [],
   "source": [
    "def normalize(clifford):\n",
    "    \"\"\"Increase contrast by plotting logarithm of histogram count\"\"\"\n",
    "    return np.log10(1 + clifford)"
   ]
  },
  {
   "cell_type": "code",
   "execution_count": null,
   "metadata": {
    "scrolled": false
   },
   "outputs": [],
   "source": [
    "i = 0\n",
    "while i < 20:\n",
    "    a, b, c, d = map(float, 4 * np.round(np.random.rand(4,1), 2) - 2)\n",
    "    cliff = clifford_bincount(10**7, 1024, 1024, a, b, c, d)\n",
    "    \n",
    "    if np.count_nonzero(cliff) < cliff.size / 10:\n",
    "        continue\n",
    "        \n",
    "    fig = plt.figure(figsize=(5, 5), dpi=100)\n",
    "    ax = plt.Axes(fig, [0., 0., 1., 1.])\n",
    "    ax.set_axis_off()\n",
    "    fig.add_axes(ax)\n",
    "    fig.suptitle('a: %s; b: %s; c: %s; d: %s' % (a, b, c, d), color='0.1', y=1.05)\n",
    "    ax.imshow(normalize(cliff), interpolation='bilinear', cmap='magma')\n",
    "    \n",
    "    i += 1"
   ]
  },
  {
   "cell_type": "markdown",
   "metadata": {},
   "source": [
    "## Now, let's find the best color map 🌈\n",
    "\n",
    "and make it pretty!"
   ]
  },
  {
   "cell_type": "code",
   "execution_count": null,
   "metadata": {},
   "outputs": [],
   "source": [
    "cmaps = ('viridis', 'plasma', 'inferno', 'magma',\n",
    "         'Greys', 'Purples', 'Blues', 'Greens', 'Oranges', 'Reds',\n",
    "         'YlOrBr', 'YlOrRd', 'OrRd', 'PuRd', 'RdPu', 'BuPu',\n",
    "         'GnBu', 'PuBu', 'YlGnBu', 'PuBuGn', 'BuGn', 'YlGn',\n",
    "         'binary', 'gist_yarg', 'gist_gray', 'gray', 'bone', 'pink',\n",
    "         'spring', 'summer', 'autumn', 'winter', 'cool', 'Wistia',\n",
    "         'hot', 'afmhot', 'gist_heat', 'copper')"
   ]
  },
  {
   "cell_type": "code",
   "execution_count": null,
   "metadata": {},
   "outputs": [],
   "source": [
    "a, b, c, d = -1.52, 1.64, 1.08, 1.88\n",
    "\n",
    "# hi-res, baby!\n",
    "cliff = clifford_bincount(10**8, 2048, 2048, a, b, c, d)"
   ]
  },
  {
   "cell_type": "code",
   "execution_count": null,
   "metadata": {
    "scrolled": false
   },
   "outputs": [],
   "source": [
    "for cmap in cmaps:\n",
    "    fig = plt.figure(figsize=(5, 5), dpi=100)\n",
    "    ax = plt.Axes(fig, [0., 0., 1., 1.])\n",
    "    ax.set_axis_off()\n",
    "    fig.add_axes(ax)\n",
    "    fig.suptitle(cmap, color='0.1', y=1.05)\n",
    "    ax.imshow(np.fliplr(normalize(cliff)), interpolation='bilinear', cmap=cmap, aspect='equal')\n",
    "    fig.savefig('%s.png' % cmap, dpi=300)"
   ]
  },
  {
   "cell_type": "markdown",
   "metadata": {},
   "source": [
    "### ... aaaand we're done!\n",
    "\n",
    "Enjoy :)"
   ]
  }
 ],
 "metadata": {
  "kernelspec": {
   "display_name": "Python 2",
   "language": "python",
   "name": "python2"
  },
  "language_info": {
   "codemirror_mode": {
    "name": "ipython",
    "version": 2
   },
   "file_extension": ".py",
   "mimetype": "text/x-python",
   "name": "python",
   "nbconvert_exporter": "python",
   "pygments_lexer": "ipython2",
   "version": "2.7.14"
  }
 },
 "nbformat": 4,
 "nbformat_minor": 2
}
